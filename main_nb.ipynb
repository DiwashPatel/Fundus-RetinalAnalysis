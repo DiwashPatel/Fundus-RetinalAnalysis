{
 "cells": [
  {
   "cell_type": "code",
   "execution_count": 1,
   "id": "fd569100",
   "metadata": {},
   "outputs": [],
   "source": [
    "import os\n",
    "import base64\n",
    "import json\n",
    "import time\n",
    "from datetime import datetime\n",
    "import pandas as pd\n",
    "from openai import OpenAI\n",
    "from openai.types.chat import ChatCompletionUserMessageParam\n",
    "from dotenv import load_dotenv"
   ]
  },
  {
   "cell_type": "code",
   "execution_count": 2,
   "id": "0a0afe0d",
   "metadata": {},
   "outputs": [],
   "source": [
    "load_dotenv()  \n",
    "client = OpenAI(api_key=os.getenv(\"OPENAI_API_KEY\"))"
   ]
  },
  {
   "cell_type": "code",
   "execution_count": 3,
   "id": "edc67ace",
   "metadata": {},
   "outputs": [],
   "source": [
    "PROMPT = \"\"\" Please analyze the optic disc photograph I will upload and reply with exactly the following JSON object—nothing else. Use these rules for every field:\n",
    "• If a value is not discernible, enter \"unknown\" (or an empty array [] where noted).\n",
    "• Do not add comments or extra keys.\n",
    "• Keep number formatting exactly as specified.\n",
    "\n",
    "{\n",
    "  \"vcdratio (Vertical Cup-Disc Ratio)\": \"0.0-0.9 in 0.1 increments or 'unknown'\",\n",
    "  \"hcdratio (Horizontal Cup-Disc Ratio)\": \"0.0-0.9 in 0.1 increments or 'unknown'\",\n",
    "  \"dischem (Disc Hemorrhage)\": \"'Yes'/'No'/'unknown'\",\n",
    "  \"dhemlocn (Disc Hemorrhage Location)\": \"['clock hours (e.g., \\\"7:00\\\")'] or []\",\n",
    "  \"rimnotch (Rim Notch)\": \"'Yes'/'No'/'unknown'\",\n",
    "  \"ntchclkhrs (Rim Notch Location)\": \"['clock hours (e.g., \\\"7:30\\\")'] or []\",\n",
    "  \"pericrescent (Peripapillary Atrophy Crescent)\": \"'Yes'/'No'/'unknown'\",\n",
    "  \"rimthin (Rim Thinning)\": \"'Yes'/'No'/'unknown'\",\n",
    "  \"rimthinloc (Rim Thinning Location)\": \"['clock hour location (e.g., \\\"7:00\\\")'] or []\",\n",
    "  \"clarity (Image Clarity)\": \"'Good'/'Fair'/'Poor'/'unknown'\",\n",
    "  \"glaucoma (Glaucoma Diagnosis)\": \"'Yes'/'No'/'unknown'\"\n",
    "}\n",
    "\n",
    "RULES:\n",
    "1. Use clock-hour notation (e.g., '7:30') for locations\n",
    "2. For unclear features, use 'unknown'\n",
    "3. Empty arrays [] when no locations exist\n",
    "\"\"\""
   ]
  },
  {
   "cell_type": "code",
   "execution_count": 4,
   "id": "7b7e1576",
   "metadata": {},
   "outputs": [],
   "source": [
    "def encode_image(image_name):\n",
    "    \"\"\"Convert image to base64 string\"\"\"\n",
    "    img_path = os.path.join(IMAGE_FOLDER, image_name)\n",
    "    with open(img_path, \"rb\") as f:\n",
    "        return base64.b64encode(f.read()).decode(\"utf-8\")"
   ]
  },
  {
   "cell_type": "code",
   "execution_count": 5,
   "id": "ca5f9df4",
   "metadata": {},
   "outputs": [],
   "source": [
    "def analyze_image(image_name):\n",
    "    \"\"\"Analyze single image and return result dict with metadata\"\"\"\n",
    "    try:\n",
    "        start_time = time.time()\n",
    "\n",
    "        response = client.chat.completions.create(\n",
    "            model=\"gpt-4.1-mini\",  # change if needed\n",
    "            messages=[{\n",
    "                \"role\": \"user\",\n",
    "                \"content\": [\n",
    "                    {\"type\": \"text\", \"text\": PROMPT},\n",
    "                    {\n",
    "                        \"type\": \"image_url\",\n",
    "                        \"image_url\": {\n",
    "                            \"url\": f\"data:image/jpeg;base64,{encode_image(image_name)}\"\n",
    "                        }\n",
    "                    }\n",
    "                ]\n",
    "            }],\n",
    "            response_format={\"type\": \"json_object\"}\n",
    "        )\n",
    "\n",
    "        elapsed_time = time.time() - start_time\n",
    "\n",
    "        if not response.choices or not hasattr(response.choices[0], \"message\"):\n",
    "            print(f\"No choices/message returned for {image_name}\")\n",
    "            return None\n",
    "\n",
    "        generated_content = response.choices[0].message.content\n",
    "        if not generated_content:\n",
    "            print(f\"No content returned for {image_name}\")\n",
    "            return None\n",
    "\n",
    "        # Parse result JSON\n",
    "        result = json.loads(generated_content)\n",
    "\n",
    "        # Add metadata\n",
    "        result[\"image_name\"] = image_name\n",
    "        result[\"processed_at\"] = datetime.now().strftime('%Y-%m-%d %H:%M:%S')\n",
    "        result[\"elapsed_time_sec\"] = round(elapsed_time, 2)\n",
    "\n",
    "        # Token usage\n",
    "        usage = response.usage if hasattr(response, \"usage\") else None\n",
    "        result[\"prompt_tokens\"] = usage.prompt_tokens if usage else \"unknown\"\n",
    "        result[\"completion_tokens\"] = usage.completion_tokens if usage else \"unknown\"\n",
    "        result[\"total_tokens\"] = usage.total_tokens if usage else \"unknown\"\n",
    "\n",
    "        return result\n",
    "\n",
    "    except Exception as e:\n",
    "        print(f\"Error processing {image_name}: {str(e)}\")\n",
    "        return None"
   ]
  },
  {
   "cell_type": "code",
   "execution_count": 6,
   "id": "91a4dc02",
   "metadata": {},
   "outputs": [],
   "source": [
    "\n",
    "# === Setup paths and folders ===\n",
    "IMAGE_FOLDER = \"images\"\n",
    "RESULTS_FOLDER = \"results\"\n",
    "os.makedirs(RESULTS_FOLDER, exist_ok=True)\n",
    "\n",
    "timestamp = datetime.now().strftime('%Y%m%d_%H%M%S')\n",
    "output_filename = os.path.join(RESULTS_FOLDER, f'results_{timestamp}')\n",
    "processed_file_path = os.path.join(RESULTS_FOLDER, \"processed_images.txt\")"
   ]
  },
  {
   "cell_type": "code",
   "execution_count": 7,
   "id": "1d6cac50",
   "metadata": {},
   "outputs": [],
   "source": [
    "\n",
    "# === Load processed image names from file ===\n",
    "if os.path.exists(processed_file_path):\n",
    "    with open(processed_file_path, \"r\") as f:\n",
    "        processed = set(line.strip() for line in f if line.strip())\n",
    "else:\n",
    "    processed = set()"
   ]
  },
  {
   "cell_type": "code",
   "execution_count": 8,
   "id": "24b41992",
   "metadata": {},
   "outputs": [],
   "source": [
    "# === Load all image files ===\n",
    "all_images = {\n",
    "    f for f in os.listdir(IMAGE_FOLDER)\n",
    "    if f.lower().endswith(('.jpg', '.jpeg', '.png'))\n",
    "}\n",
    "\n",
    "# === Store results and newly processed files ===\n",
    "results = []\n",
    "newly_processed = set()"
   ]
  },
  {
   "cell_type": "code",
   "execution_count": 9,
   "id": "fa50d94e",
   "metadata": {},
   "outputs": [
    {
     "name": "stdout",
     "output_type": "stream",
     "text": [
      "Analyzing: 90002-CV822-R.jpg\n",
      "Processed: 90002-CV822-R.jpg\n",
      "Analyzing: 90001-VR219-L.jpg\n",
      "Processed: 90001-VR219-L.jpg\n",
      "Analyzing: 90001-KW254-R.jpg\n",
      "Processed: 90001-KW254-R.jpg\n",
      "Analyzing: 90001-VR219-R.jpg\n",
      "Processed: 90001-VR219-R.jpg\n",
      "Analyzing: 90002-CV822-L.jpg\n",
      "Processed: 90002-CV822-L.jpg\n",
      "Analyzing: 90001-KW254-L.jpg\n",
      "Processed: 90001-KW254-L.jpg\n",
      "Updated processed_images.txt with 6 new entries.\n",
      "Results saved to: results/results_20250617_232031.csv and .xlsx\n"
     ]
    }
   ],
   "source": [
    "# === Main Loop with Safe Writing ===\n",
    "try:\n",
    "    for img_name in all_images:\n",
    "        if img_name not in processed:\n",
    "            print(f\"Analyzing: {img_name}\")\n",
    "            result = analyze_image(img_name)\n",
    "            if result:\n",
    "                results.append(result)\n",
    "                newly_processed.add(img_name)\n",
    "                print(f\"Processed: {img_name}\")\n",
    "            time.sleep(1)  # Prevent rate limit\n",
    "        else:\n",
    "            print(f\"Skipping already processed: {img_name}\")\n",
    "\n",
    "finally:\n",
    "    # Save processed image names\n",
    "    if newly_processed:\n",
    "        with open(processed_file_path, \"a\") as f:\n",
    "            for name in newly_processed:\n",
    "                f.write(name + \"\\n\")\n",
    "        print(f\"Updated processed_images.txt with {len(newly_processed)} new entries.\")\n",
    "\n",
    "    # Save final results to CSV and Excel\n",
    "    if results:\n",
    "        df = pd.DataFrame(results)\n",
    "        cols = df.columns.tolist()\n",
    "        if \"image_name\" in cols:\n",
    "            cols.insert(0, cols.pop(cols.index(\"image_name\")))\n",
    "            df = df[cols]\n",
    "\n",
    "        df.to_csv(f\"{output_filename}.csv\", index=False)\n",
    "        df.to_excel(f\"{output_filename}.xlsx\", index=False)\n",
    "        print(f\"Results saved to: {output_filename}.csv and .xlsx\")\n",
    "    else:\n",
    "        print(\"No new results to save.\")"
   ]
  }
 ],
 "metadata": {
  "kernelspec": {
   "display_name": "fundus_venv",
   "language": "python",
   "name": "python3"
  },
  "language_info": {
   "codemirror_mode": {
    "name": "ipython",
    "version": 3
   },
   "file_extension": ".py",
   "mimetype": "text/x-python",
   "name": "python",
   "nbconvert_exporter": "python",
   "pygments_lexer": "ipython3",
   "version": "3.12.3"
  }
 },
 "nbformat": 4,
 "nbformat_minor": 5
}
